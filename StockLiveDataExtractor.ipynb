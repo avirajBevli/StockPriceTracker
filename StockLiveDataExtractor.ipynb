{
 "cells": [
  {
   "cell_type": "code",
   "execution_count": 1,
   "metadata": {},
   "outputs": [],
   "source": [
    "#Getting live stock data from the YAHOO finance API and if the stock value is below our\n",
    "#stop loss, raise an alarm\n",
    "import requests\n",
    "from bs4 import BeautifulSoup\n",
    "from playsound import playsound\n",
    "from gtts import gTTS \n",
    "import os \n",
    "from playsound import playsound"
   ]
  },
  {
   "cell_type": "code",
   "execution_count": 2,
   "metadata": {},
   "outputs": [],
   "source": [
    "def priceTracker(url):\n",
    "    #url = 'https://in.finance.yahoo.com/quote/AAPL?p=AAPL&.tsrc=fin-srch'\n",
    "    response = requests.get(url)\n",
    "    soup = BeautifulSoup(response.text, 'lxml')#lxml parser has been used\n",
    "    \n",
    "    #Find all will return a list of div elements, with a class of 'My(6px) Pos(r) smartphone_Mt(6px)'\n",
    "    #We wanna access the first element of this list..\n",
    "    price = soup.find_all('div', {'class':'My(6px) Pos(r) smartphone_Mt(6px)'})[0].find('span').text\n",
    "    #alternatively, use soup.find(...).find('span').text \n",
    "    \n",
    "    return float(price)"
   ]
  },
  {
   "cell_type": "code",
   "execution_count": 3,
   "metadata": {},
   "outputs": [],
   "source": [
    "appleText = 'Apple is doomed!'\n",
    "language = 'en'\n",
    "myobj = gTTS(text=appleText, lang=language, slow=False) \n",
    "myobj.save(\"AppleDoomed.mp3\") \n",
    "\n",
    "ciplaText = 'Cipla is doomed!'\n",
    "language = 'en'\n",
    "myobj = gTTS(text=ciplaText, lang=language, slow=False) \n",
    "myobj.save(\"CiplaDoomed.mp3\") \n",
    "\n",
    "bhartiAirtelText = 'Bharti Airtel is doomed!'\n",
    "language = 'en'\n",
    "myobj = gTTS(text=bhartiAirtelText, lang=language, slow=False) \n",
    "myobj.save(\"bhartiAirtel.mp3\") "
   ]
  },
  {
   "cell_type": "code",
   "execution_count": null,
   "metadata": {},
   "outputs": [
    {
     "name": "stdout",
     "output_type": "stream",
     "text": [
      "766.4, 766.35, 766.8, 766.6, 766.85, 766.6, 766.3, 766.65, 766.8, 766.55, 766.45, 766.75, 766.75, 766.8, 766.6, 766.65, 766.65, 766.55, 767.0, 767.65, 767.6, 767.55, 768.65, 767.9, 769.0, 769.6, "
     ]
    }
   ],
   "source": [
    "while(1):\n",
    "    '''curr_price_apple = priceTracker(\"https://in.finance.yahoo.com/quote/AAPL?p=AAPL&.tsrc=fin-srch\")\n",
    "    print(curr_price_apple)\n",
    "    if curr_price_apple>470:\n",
    "        print(\".\", end='')\n",
    "    else:\n",
    "        playsound('/home/aviraj/WebScraping/AppleDoomed.mp3')\n",
    "    '''\n",
    "    curr_price_BA = priceTracker(\"https://in.finance.yahoo.com/quote/BHARTIARTL.NS?p=BHARTIARTL.NS&.tsrc=fin-srch\")\n",
    "    #print(curr_price_BA, end=', ')\n",
    "    #if curr_price_BA<170:\n",
    "    #    playsound('/home/aviraj/WebScraping/bhartiAirtel.mp3')\n",
    "   \n",
    "    curr_price_cipla = priceTracker(\"https://in.finance.yahoo.com/quote/CIPLA.NS?p=CIPLA.NS&.tsrc=fin-srch\")\n",
    "    print(curr_price_cipla, end = ', ')\n",
    "    if curr_price_cipla>768.1:\n",
    "        playsound('/home/aviraj/WebScraping/CiplaDoomed.mp3')\n",
    "    '''else:\n",
    "        print(\".\", end='')'''"
   ]
  },
  {
   "cell_type": "code",
   "execution_count": 16,
   "metadata": {},
   "outputs": [
    {
     "data": {
      "text/plain": [
       "'def TrackPortfolio(stocks, stop_losses):\\n    while 1:\\n        for url in stocks:\\n            \\n        curr_price_apple = priceTracker(\"https://in.finance.yahoo.com/quote/AAPL?p=AAPL&.tsrc=fin-srch\")\\n        print(curr_price_apple)\\n        if curr_price_apple>470:\\n            print(\".\", end=\\'\\')\\n        else:\\n            playsound(\\'/home/aviraj/WebScraping/AppleDoomed.mp3\\')\\n\\n        curr_price_cipla = priceTracker(\"https://in.finance.yahoo.com/quote/CIPLA.NS?p=CIPLA.NS&.tsrc=fin-srch\")\\n        print(curr_price_cipla)\\n        if curr_price_cipla>800:\\n            print(\".\", end=\\'\\')\\n        else:\\n            playsound(\\'/home/aviraj/WebScraping/CiplaDoomed.mp3\\')'"
      ]
     },
     "execution_count": 16,
     "metadata": {},
     "output_type": "execute_result"
    }
   ],
   "source": [
    "'''def TrackPortfolio(stocks, stop_losses):\n",
    "    while 1:\n",
    "        for url in stocks:\n",
    "            \n",
    "        curr_price_apple = priceTracker(\"https://in.finance.yahoo.com/quote/AAPL?p=AAPL&.tsrc=fin-srch\")\n",
    "        print(curr_price_apple)\n",
    "        if curr_price_apple>470:\n",
    "            print(\".\", end='')\n",
    "        else:\n",
    "            playsound('/home/aviraj/WebScraping/AppleDoomed.mp3')\n",
    "\n",
    "        curr_price_cipla = priceTracker(\"https://in.finance.yahoo.com/quote/CIPLA.NS?p=CIPLA.NS&.tsrc=fin-srch\")\n",
    "        print(curr_price_cipla)\n",
    "        if curr_price_cipla>800:\n",
    "            print(\".\", end='')\n",
    "        else:\n",
    "            playsound('/home/aviraj/WebScraping/CiplaDoomed.mp3')'''"
   ]
  },
  {
   "cell_type": "code",
   "execution_count": null,
   "metadata": {},
   "outputs": [],
   "source": [
    "'''stocks = [\"https://in.finance.yahoo.com/quote/AAPL?p=AAPL&.tsrc=fin-srch\", \"https://in.finance.yahoo.com/quote/CIPLA.NS?p=CIPLA.NS&.tsrc=fin-srch\"]\n",
    "stop_losses = [470, 800]\n",
    "TrackPortfolio(stocks, stop_losses)'''"
   ]
  }
 ],
 "metadata": {
  "kernelspec": {
   "display_name": "Python 3",
   "language": "python",
   "name": "python3"
  },
  "language_info": {
   "codemirror_mode": {
    "name": "ipython",
    "version": 3
   },
   "file_extension": ".py",
   "mimetype": "text/x-python",
   "name": "python",
   "nbconvert_exporter": "python",
   "pygments_lexer": "ipython3",
   "version": "3.6.9"
  }
 },
 "nbformat": 4,
 "nbformat_minor": 4
}
